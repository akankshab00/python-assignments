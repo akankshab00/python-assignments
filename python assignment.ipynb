{
 "cells": [
  {
   "cell_type": "markdown",
   "id": "254c97cb-d366-44f7-9295-cb4ab7df238e",
   "metadata": {},
   "source": [
    "1. EXPLAIN THE KEY FEATURES OF PYTHON THAT MAKE IT POPULAR CHOICE FOR PROGRAMMING .\n",
    "\n",
    "   A. Python is popular for several reasons . its got a simple , readable syntax that makes it great for beginners . Python is also very versatile and easy to learn .\n",
    "    "
   ]
  },
  {
   "cell_type": "markdown",
   "id": "b3981cd3-1990-407b-b317-e9b304e397d8",
   "metadata": {},
   "source": [
    "2. DESCRIBE THE ROLE OF PREDEFINED KEYWORDS WITH EXAMPLES IN PROGRAMMING.\n",
    "\n",
    "   A.Python Keywords are some predefined and reserved words in Python that have special meanings. Keywords are used to define the syntax of the coding. The keyword cannot be used as an identifier, function, or variable name. All the keywords in Python are written in lowercase except True and False.\n",
    "   Keywords in Python include: False, True, None, and, as, assert, async, await, def, del, elif, else, break, class, continue, except, finally, for, from, global, if, import, in, is, lambda, nonlocal, not, or, pass, raise, return, try, while, with and yield.\n",
    "\n",
    "   HERE ARE SOME EXAMPLES :"
   ]
  },
  {
   "cell_type": "code",
   "execution_count": 3,
   "id": "20922baa-070c-42bc-9fcd-2ed9711db043",
   "metadata": {},
   "outputs": [
    {
     "name": "stdout",
     "output_type": "stream",
     "text": [
      "x is greater than 5\n"
     ]
    }
   ],
   "source": [
    "x = 10\n",
    "if x > 5:\n",
    "    print(\"x is greater than 5\")\n",
    "elif x == 5:\n",
    "    print(\"x is equal to 5\")\n",
    "else:\n",
    "    print(\"x is less than 5\")\n",
    "    "
   ]
  },
  {
   "cell_type": "code",
   "execution_count": 27,
   "id": "3c299839-2ec0-4b6b-921a-dc725ee09ee6",
   "metadata": {},
   "outputs": [
    {
     "name": "stdout",
     "output_type": "stream",
     "text": [
      "False\n",
      "True\n",
      "False\n",
      "True\n"
     ]
    }
   ],
   "source": [
    "a = True\n",
    "b = False\n",
    "print(a and b)\n",
    "print(a or b)\n",
    "print(not a)\n",
    "print(5 in [1, 2, 3, 4, 5])\n"
   ]
  },
  {
   "cell_type": "markdown",
   "id": "731c3c7b-cd9b-4512-9ee2-c9df6217e48c",
   "metadata": {},
   "source": [
    "3. compare and contrast  Mutable and Immutable objects in Python with examples . \n",
    "\n",
    "   A.  Mutable - A mutable data type is one whose values can be changed. for example: List, Dictionaries, and Set\n",
    "       Immutable Data Type – An immutable data type is one in which the values can’t be changed or altered.For example: String and Tuples\n",
    "\n",
    "HERE ARE SOME EXAMPLES:-"
   ]
  },
  {
   "cell_type": "code",
   "execution_count": 2,
   "id": "f21cbba9-7350-4697-9530-302cc249ee38",
   "metadata": {
    "scrolled": true
   },
   "outputs": [
    {
     "name": "stdout",
     "output_type": "stream",
     "text": [
      "['Vikram', 'Anshul', 'Amit', 'Suresh', 'Kamal']\n"
     ]
    }
   ],
   "source": [
    "#create a list of student  Examples of Mutable Data Type\n",
    "\n",
    "name = ['Vikram', 'Anshul', 'Amit', 'Suresh']\n",
    "\n",
    "#add element in the existing list\n",
    "name.append('Kamal')\n",
    "\n",
    "print(name)"
   ]
  },
  {
   "cell_type": "code",
   "execution_count": 31,
   "id": "339cfa25-01a9-458a-9454-a0a1833d8031",
   "metadata": {},
   "outputs": [],
   "source": [
    "#example of immutable data type\n",
    "\n",
    "my_string=\"my name is akanksha bhatt\""
   ]
  },
  {
   "cell_type": "code",
   "execution_count": 35,
   "id": "8f7a6d7d-6b1a-4712-a88f-9913dee4febb",
   "metadata": {},
   "outputs": [
    {
     "data": {
      "text/plain": [
       "'m'"
      ]
     },
     "execution_count": 35,
     "metadata": {},
     "output_type": "execute_result"
    }
   ],
   "source": [
    "my_string[0]"
   ]
  },
  {
   "cell_type": "code",
   "execution_count": 37,
   "id": "de98a4cd-7920-44e1-bb78-a456ee6bb0ae",
   "metadata": {},
   "outputs": [],
   "source": [
    "tup1=(1,\"a\", True,2,\"b\",False)"
   ]
  },
  {
   "cell_type": "code",
   "execution_count": 39,
   "id": "c4f64d6b-19e1-4d7a-8363-81c5d68c4ac8",
   "metadata": {},
   "outputs": [
    {
     "data": {
      "text/plain": [
       "tuple"
      ]
     },
     "execution_count": 39,
     "metadata": {},
     "output_type": "execute_result"
    }
   ],
   "source": [
    "type(tup1)"
   ]
  },
  {
   "cell_type": "code",
   "execution_count": 43,
   "id": "119cf229-739d-4721-870f-d68e9703a78e",
   "metadata": {},
   "outputs": [
    {
     "data": {
      "text/plain": [
       "1"
      ]
     },
     "execution_count": 43,
     "metadata": {},
     "output_type": "execute_result"
    }
   ],
   "source": [
    "tup1[0]"
   ]
  },
  {
   "cell_type": "code",
   "execution_count": 45,
   "id": "0995f559-845e-4c2d-9e3d-efc6fe5427c9",
   "metadata": {},
   "outputs": [
    {
     "data": {
      "text/plain": [
       "(2, 'b', False)"
      ]
     },
     "execution_count": 45,
     "metadata": {},
     "output_type": "execute_result"
    }
   ],
   "source": [
    "tup1[3:6]"
   ]
  },
  {
   "cell_type": "markdown",
   "id": "dbc4834c-ab9d-4b93-ac50-969a3a917f90",
   "metadata": {},
   "source": [
    "4. DIFFERENT TYPE OF OPERATORS IN PYTHON WITH THERE EXAMPLES.\n",
    "\n",
    "Arithmetic operators (+\t, -\t, *\t ,  / ,%, **, //) , \n",
    "Assignment operators(=, += , -= , *=, /= , **= , %= ,//= ) ,\n",
    "Comparison operators(==\t, !=, >\t, <, >=\t, <= ) , \n",
    "Logical operators(& , or ) \n",
    "\n",
    "HERE ARE SOME EXAMPLES :-"
   ]
  },
  {
   "cell_type": "code",
   "execution_count": 48,
   "id": "2589b093-8782-4731-92a8-9890773f758c",
   "metadata": {},
   "outputs": [],
   "source": [
    "#arithmetic operators (+, -\t, *\t ,  /)"
   ]
  },
  {
   "cell_type": "code",
   "execution_count": 50,
   "id": "383cc255-21e2-4843-ae71-6402e382a865",
   "metadata": {},
   "outputs": [],
   "source": [
    "a=10\n",
    "b=20"
   ]
  },
  {
   "cell_type": "code",
   "execution_count": 52,
   "id": "42a0f23d-80f2-4e31-bf0e-1a5d0cd34e5d",
   "metadata": {},
   "outputs": [
    {
     "data": {
      "text/plain": [
       "30"
      ]
     },
     "execution_count": 52,
     "metadata": {},
     "output_type": "execute_result"
    }
   ],
   "source": [
    "a+b\n"
   ]
  },
  {
   "cell_type": "code",
   "execution_count": 56,
   "id": "47b6f455-1d75-4a10-83cb-3c77e60f7989",
   "metadata": {},
   "outputs": [
    {
     "data": {
      "text/plain": [
       "10"
      ]
     },
     "execution_count": 56,
     "metadata": {},
     "output_type": "execute_result"
    }
   ],
   "source": [
    "b-a"
   ]
  },
  {
   "cell_type": "code",
   "execution_count": 59,
   "id": "8fe3a638-b7aa-4550-8d13-a15a8d6aa2be",
   "metadata": {},
   "outputs": [
    {
     "data": {
      "text/plain": [
       "200"
      ]
     },
     "execution_count": 59,
     "metadata": {},
     "output_type": "execute_result"
    }
   ],
   "source": [
    "a*b"
   ]
  },
  {
   "cell_type": "code",
   "execution_count": 61,
   "id": "2d0680ae-cd88-4292-9f83-e22be32be960",
   "metadata": {},
   "outputs": [
    {
     "data": {
      "text/plain": [
       "0.5"
      ]
     },
     "execution_count": 61,
     "metadata": {},
     "output_type": "execute_result"
    }
   ],
   "source": [
    "a/b"
   ]
  },
  {
   "cell_type": "code",
   "execution_count": null,
   "id": "c1a6df0b-6582-43e4-a68a-935cc37eb2c3",
   "metadata": {},
   "outputs": [],
   "source": [
    "#assignment operators"
   ]
  },
  {
   "cell_type": "code",
   "execution_count": 92,
   "id": "44d13b0e-4346-4bd7-aefa-4df73269b418",
   "metadata": {},
   "outputs": [
    {
     "name": "stdout",
     "output_type": "stream",
     "text": [
      "15\n"
     ]
    }
   ],
   "source": [
    "a = 5\n",
    "b=10\n",
    "a+=b\n",
    "print(a)"
   ]
  },
  {
   "cell_type": "code",
   "execution_count": 96,
   "id": "b9bdf8a3-e075-44c1-affb-cf469ffeb2b6",
   "metadata": {},
   "outputs": [
    {
     "name": "stdout",
     "output_type": "stream",
     "text": [
      "-5\n"
     ]
    }
   ],
   "source": [
    "a-=b\n",
    "print(a)"
   ]
  },
  {
   "cell_type": "code",
   "execution_count": 98,
   "id": "36d51b9b-4e89-444d-80a5-f596360da874",
   "metadata": {},
   "outputs": [
    {
     "name": "stdout",
     "output_type": "stream",
     "text": [
      "-50\n"
     ]
    }
   ],
   "source": [
    "a*=b\n",
    "print(a)"
   ]
  },
  {
   "cell_type": "code",
   "execution_count": 102,
   "id": "0efa7ede-43c9-4cd1-86ce-740310e412ae",
   "metadata": {},
   "outputs": [
    {
     "name": "stdout",
     "output_type": "stream",
     "text": [
      "-0.5\n"
     ]
    }
   ],
   "source": [
    "a/=b\n",
    "print(a)"
   ]
  },
  {
   "cell_type": "code",
   "execution_count": 106,
   "id": "8b13cc42-dae0-4803-a86e-6ee8ba5039d2",
   "metadata": {},
   "outputs": [],
   "source": [
    "#comparison operators/ relational"
   ]
  },
  {
   "cell_type": "code",
   "execution_count": 108,
   "id": "ef9bb0e3-fe7f-4254-b145-0e91ec7546f6",
   "metadata": {},
   "outputs": [],
   "source": [
    "a=60\n",
    "b=35"
   ]
  },
  {
   "cell_type": "code",
   "execution_count": 110,
   "id": "9962bb47-ba0d-4b5d-9911-aa3ef0ae1dff",
   "metadata": {},
   "outputs": [
    {
     "data": {
      "text/plain": [
       "False"
      ]
     },
     "execution_count": 110,
     "metadata": {},
     "output_type": "execute_result"
    }
   ],
   "source": [
    "a==b"
   ]
  },
  {
   "cell_type": "code",
   "execution_count": 114,
   "id": "90859957-16a0-4afe-9ecc-b36aade95a1d",
   "metadata": {},
   "outputs": [
    {
     "data": {
      "text/plain": [
       "True"
      ]
     },
     "execution_count": 114,
     "metadata": {},
     "output_type": "execute_result"
    }
   ],
   "source": [
    "a!=b"
   ]
  },
  {
   "cell_type": "code",
   "execution_count": 116,
   "id": "c17da729-eb13-4f87-a1bf-a70041dc233f",
   "metadata": {},
   "outputs": [
    {
     "data": {
      "text/plain": [
       "False"
      ]
     },
     "execution_count": 116,
     "metadata": {},
     "output_type": "execute_result"
    }
   ],
   "source": [
    "a<b"
   ]
  },
  {
   "cell_type": "code",
   "execution_count": 118,
   "id": "ea2168dc-1c91-471c-903c-dded8fe16f7c",
   "metadata": {},
   "outputs": [
    {
     "data": {
      "text/plain": [
       "True"
      ]
     },
     "execution_count": 118,
     "metadata": {},
     "output_type": "execute_result"
    }
   ],
   "source": [
    "a>b"
   ]
  },
  {
   "cell_type": "code",
   "execution_count": 120,
   "id": "8ffc8b07-f832-47c6-979c-e303e28f4f3a",
   "metadata": {},
   "outputs": [],
   "source": [
    "#logical operators"
   ]
  },
  {
   "cell_type": "code",
   "execution_count": 130,
   "id": "8adb2916-2672-4674-8445-94db45143212",
   "metadata": {},
   "outputs": [
    {
     "name": "stdout",
     "output_type": "stream",
     "text": [
      "Number b is larger\n"
     ]
    }
   ],
   "source": [
    "a = 12\n",
    "b = 26\n",
    "c = 4\n",
    "  \n",
    "if a > b and a > c:  \n",
    "    print(\"Number a is larger\")  \n",
    "  \n",
    "if b > a and b > c:  \n",
    "    print(\"Number b is larger\")  \n",
    "  \n",
    "if c > a and c > b:     \n",
    "    print(\"Number c is larger\")  "
   ]
  },
  {
   "cell_type": "code",
   "execution_count": 132,
   "id": "66015aed-58e3-48e3-a253-23fad7b54d52",
   "metadata": {},
   "outputs": [
    {
     "name": "stdout",
     "output_type": "stream",
     "text": [
      "Their product will be negative\n"
     ]
    }
   ],
   "source": [
    "a = 10\n",
    "b = -5\n",
    "  \n",
    "if a < 0 or b < 0: \n",
    "  print(\"Their product will be negative\") \n",
    "else: \n",
    "  print(\"Their product will be positive\")"
   ]
  },
  {
   "cell_type": "markdown",
   "id": "50220f03-6251-4b22-a109-2f9769ba5b55",
   "metadata": {},
   "source": [
    "5. TYPE CASTING IN PYTHON WITH EXAMPLES\n",
    "\n",
    "   A:- Casting, also known as type conversion, is a process that converts a variable's data type into another data type. These conversions can be implicit (automatically interpreted) or explicit (using built-in functions).\n",
    "\n",
    "   HERE ARE SOME EXAMPLES:-"
   ]
  },
  {
   "cell_type": "code",
   "execution_count": 144,
   "id": "160f6b92-6b19-4d5f-9ab9-93f4e86535f6",
   "metadata": {},
   "outputs": [
    {
     "name": "stdout",
     "output_type": "stream",
     "text": [
      "1\n",
      "2\n",
      "3\n"
     ]
    }
   ],
   "source": [
    "#casting with integers\n",
    "\n",
    "x = int(1) \n",
    "y = int(2.8) \n",
    "z = int(\"3\") \n",
    "print(x)\n",
    "print(y)\n",
    "print(z)"
   ]
  },
  {
   "cell_type": "code",
   "execution_count": 146,
   "id": "de08980e-3f17-4e9d-a5cb-56f216debc3a",
   "metadata": {},
   "outputs": [
    {
     "name": "stdout",
     "output_type": "stream",
     "text": [
      "1.0\n",
      "2.8\n",
      "3.0\n",
      "4.2\n"
     ]
    }
   ],
   "source": [
    "#casting with float\n",
    "\n",
    "\n",
    "x = float(1)     \n",
    "y = float(2.8)  \n",
    "z = float(\"3\")  \n",
    "w = float(\"4.2\")\n",
    "print(x)\n",
    "print(y)\n",
    "print(z)\n",
    "print(w)"
   ]
  },
  {
   "cell_type": "code",
   "execution_count": 148,
   "id": "cc483725-51b1-4dcb-8cbe-d50a3db51d7e",
   "metadata": {},
   "outputs": [
    {
     "name": "stdout",
     "output_type": "stream",
     "text": [
      "s1\n",
      "2\n",
      "3.0\n"
     ]
    }
   ],
   "source": [
    "#casting with string\n",
    "\n",
    "x = str(\"s1\") \n",
    "y = str(2)    \n",
    "z = str(3.0)\n",
    "print(x)\n",
    "print(y)\n",
    "print(z)"
   ]
  },
  {
   "cell_type": "markdown",
   "id": "aa415860-7fa1-41c2-a715-3f33e4b74a9c",
   "metadata": {},
   "source": [
    "6. CONDITIONAL STATEMENT  IN PYTHON WITH EXAMPLES\n",
    "\n",
    "   A:-Conditional Statements are statements in Python that provide a choice for the control flow based on a condition. It means that the control flow of the Python program will be decided based on the outcome of the condition.\n",
    "* If Conditional Statement in Python\n",
    "* If else Conditional Statements in Python\n",
    "* If else Conditional Statements in Python\n",
    "* If-elif-else Conditional Statements in Python\n",
    "\n",
    "\n",
    "  HERE ARE SOME EXAMPLES:-"
   ]
  },
  {
   "cell_type": "code",
   "execution_count": 158,
   "id": "57ee6a0a-ef67-448d-b122-27af12c48ec5",
   "metadata": {},
   "outputs": [],
   "source": [
    "#if condition"
   ]
  },
  {
   "cell_type": "code",
   "execution_count": 160,
   "id": "5cbc0f0e-9b38-4e54-b766-6150877f04fc",
   "metadata": {},
   "outputs": [
    {
     "name": "stdout",
     "output_type": "stream",
     "text": [
      "10 greater than 5\n"
     ]
    }
   ],
   "source": [
    "if 10 > 5:\n",
    "    print(\"10 greater than 5\")\n"
   ]
  },
  {
   "cell_type": "code",
   "execution_count": 162,
   "id": "7d1fbf22-7352-49f1-b180-b67d7c50a4cd",
   "metadata": {},
   "outputs": [],
   "source": [
    "#If else Conditional Statements"
   ]
  },
  {
   "cell_type": "code",
   "execution_count": 164,
   "id": "969b09a2-96eb-4222-a9f3-a756ff6b9a93",
   "metadata": {},
   "outputs": [
    {
     "name": "stdout",
     "output_type": "stream",
     "text": [
      "No\n"
     ]
    }
   ],
   "source": [
    "x = 3\n",
    "if x == 4:\n",
    "    print(\"Yes\")\n",
    "else:\n",
    "    print(\"No\")"
   ]
  },
  {
   "cell_type": "code",
   "execution_count": 166,
   "id": "6f20f93a-9643-4b54-aeb1-ac8baf315480",
   "metadata": {},
   "outputs": [],
   "source": [
    "#Nested if..else Conditional Statement"
   ]
  },
  {
   "cell_type": "code",
   "execution_count": 168,
   "id": "923f25db-700d-4603-9476-48d5fbfc2c7d",
   "metadata": {},
   "outputs": [
    {
     "name": "stdout",
     "output_type": "stream",
     "text": [
      "letter is A\n"
     ]
    }
   ],
   "source": [
    "letter = \"A\"\n",
    "\n",
    "if letter == \"B\":\n",
    "    print(\"letter is B\")\n",
    "\n",
    "else:\n",
    "\n",
    "    if letter == \"C\":\n",
    "        print(\"letter is C\")\n",
    "\n",
    "    else:\n",
    "\n",
    "        if letter == \"A\":\n",
    "            print(\"letter is A\")\n",
    "\n",
    "        else:\n",
    "            print(\"letter isn't A, B and C\")"
   ]
  },
  {
   "cell_type": "code",
   "execution_count": 170,
   "id": "618c7601-4fb5-4bbc-9a3a-55a6991d410a",
   "metadata": {},
   "outputs": [],
   "source": [
    "#If-elif-else Conditional Statement"
   ]
  },
  {
   "cell_type": "code",
   "execution_count": 172,
   "id": "566c6b84-4e39-4147-9cf4-5a83d3122084",
   "metadata": {},
   "outputs": [
    {
     "name": "stdout",
     "output_type": "stream",
     "text": [
      "letter is A\n"
     ]
    }
   ],
   "source": [
    "letter = \"A\"\n",
    "\n",
    "if letter == \"B\":\n",
    "    print(\"letter is B\")\n",
    "\n",
    "elif letter == \"C\":\n",
    "    print(\"letter is C\")\n",
    "\n",
    "elif letter == \"A\":\n",
    "    print(\"letter is A\")\n",
    "\n",
    "else:\n",
    "    print(\"letter isn't A, B or C\")"
   ]
  },
  {
   "cell_type": "markdown",
   "id": "d509c3fd-d9d3-415f-91bd-887f8df84b64",
   "metadata": {},
   "source": [
    "7. DIFFERENT TYPE OF LOOP WITH EXAMPLES .\n",
    "\n",
    "   A:-Python has two primitive loop commands\n",
    "      * while loops - The while Loop With the while loop we can execute a set of statements as long as a condition is true.\n",
    "        \n",
    "      * for loops - A for loop is used for iterating over a sequence (that is either a list, a tuple, a dictionary, a set, or a string).\n",
    "        \n",
    "          \n",
    "\n"
   ]
  },
  {
   "cell_type": "code",
   "execution_count": null,
   "id": "d93679ad-fdef-4c33-a94c-6be7dcea5460",
   "metadata": {},
   "outputs": [],
   "source": []
  },
  {
   "cell_type": "code",
   "execution_count": 183,
   "id": "381f01ce-4a0a-4b90-9c9d-ca9761c8dfa6",
   "metadata": {},
   "outputs": [
    {
     "name": "stdout",
     "output_type": "stream",
     "text": [
      "1\n",
      "2\n",
      "3\n"
     ]
    }
   ],
   "source": [
    "#WHILE LOOP\n",
    "\n",
    "#Exit the loop when i is 3:(BREAK STATEMENT)\n",
    "\n",
    "i = 1\n",
    "while i < 6:\n",
    "  print(i)\n",
    "  if i == 3:\n",
    "    break\n",
    "  i += 1"
   ]
  },
  {
   "cell_type": "code",
   "execution_count": 185,
   "id": "60dd4517-25c5-4d14-97bd-e14bed7756c0",
   "metadata": {},
   "outputs": [
    {
     "name": "stdout",
     "output_type": "stream",
     "text": [
      "1\n",
      "2\n",
      "4\n",
      "5\n",
      "6\n"
     ]
    }
   ],
   "source": [
    "#Continue to the next iteration if i is 3: (CONTINUE STATEMENTS)\n",
    "\n",
    "i = 0\n",
    "while i < 6:\n",
    "  i += 1\n",
    "  if i == 3:\n",
    "    continue\n",
    "  print(i)"
   ]
  },
  {
   "cell_type": "code",
   "execution_count": 187,
   "id": "bb5f5f0f-e75b-4c9c-8ca3-970e9886120e",
   "metadata": {},
   "outputs": [
    {
     "name": "stdout",
     "output_type": "stream",
     "text": [
      "1\n",
      "2\n",
      "3\n",
      "4\n",
      "5\n",
      "i is no longer less than 6\n"
     ]
    }
   ],
   "source": [
    "#Print a message once the condition is false: (THE ELSE STATEMENT)\n",
    "\n",
    "i = 1\n",
    "while i < 6:\n",
    "  print(i)\n",
    "  i += 1\n",
    "else:\n",
    "  print(\"i is no longer less than 6\")"
   ]
  },
  {
   "cell_type": "code",
   "execution_count": 192,
   "id": "57db041a-4481-47fe-b449-aff66f21e32e",
   "metadata": {},
   "outputs": [
    {
     "name": "stdout",
     "output_type": "stream",
     "text": [
      "b\n",
      "a\n",
      "n\n",
      "a\n",
      "n\n",
      "a\n"
     ]
    }
   ],
   "source": [
    "#FOR LOOP\n",
    "\n",
    "\n",
    "#LOOPING THROUGH A STRING \n",
    "#Loop through the letters in the word \"banana\":\n",
    "\n",
    "for x in \"banana\":\n",
    "  print(x)"
   ]
  },
  {
   "cell_type": "code",
   "execution_count": 194,
   "id": "36cacf05-6b41-4b7d-ac4b-40141c391903",
   "metadata": {},
   "outputs": [
    {
     "name": "stdout",
     "output_type": "stream",
     "text": [
      "apple\n",
      "banana\n"
     ]
    }
   ],
   "source": [
    "#Exit the loop when x is \"banana\": (BREAK STATEMENT)\n",
    "\n",
    "fruits = [\"apple\", \"banana\", \"cherry\"]\n",
    "for x in fruits:\n",
    "  print(x)\n",
    "  if x == \"banana\":\n",
    "    break"
   ]
  },
  {
   "cell_type": "code",
   "execution_count": 196,
   "id": "e165ca53-69b7-47f0-af31-f806ad8577d5",
   "metadata": {},
   "outputs": [
    {
     "name": "stdout",
     "output_type": "stream",
     "text": [
      "apple\n",
      "cherry\n"
     ]
    }
   ],
   "source": [
    "#Do not print banana:(CONTINUE STATEMENT)\n",
    "\n",
    "fruits = [\"apple\", \"banana\", \"cherry\"]\n",
    "for x in fruits:\n",
    "  if x == \"banana\":\n",
    "    continue\n",
    "  print(x)"
   ]
  },
  {
   "cell_type": "code",
   "execution_count": 198,
   "id": "c51d1fbb-1908-4fdd-b373-2086b95dc610",
   "metadata": {},
   "outputs": [
    {
     "name": "stdout",
     "output_type": "stream",
     "text": [
      "0\n",
      "1\n",
      "2\n",
      "3\n",
      "4\n",
      "5\n",
      "Finally finished!\n"
     ]
    }
   ],
   "source": [
    "#Else in For Loop\n",
    "#Print all numbers from 0 to 5, and print a message when the loop has ended:\n",
    "\n",
    "for x in range(6):\n",
    "  print(x)\n",
    "else:\n",
    "  print(\"Finally finished!\")"
   ]
  },
  {
   "cell_type": "code",
   "execution_count": 200,
   "id": "e688ef18-85a7-45ff-86a5-4d51eed39b5c",
   "metadata": {},
   "outputs": [
    {
     "name": "stdout",
     "output_type": "stream",
     "text": [
      "red apple\n",
      "red banana\n",
      "red cherry\n",
      "big apple\n",
      "big banana\n",
      "big cherry\n",
      "tasty apple\n",
      "tasty banana\n",
      "tasty cherry\n"
     ]
    }
   ],
   "source": [
    "#Print each adjective for every fruit: (NESTED LOOP)\n",
    "\n",
    "adj = [\"red\", \"big\", \"tasty\"]\n",
    "fruits = [\"apple\", \"banana\", \"cherry\"]\n",
    "\n",
    "for x in adj:\n",
    "  for y in fruits:\n",
    "    print(x, y)"
   ]
  },
  {
   "cell_type": "code",
   "execution_count": null,
   "id": "38316ecb-2013-437b-adee-a2c9951023b3",
   "metadata": {},
   "outputs": [],
   "source": []
  }
 ],
 "metadata": {
  "kernelspec": {
   "display_name": "Python 3 (ipykernel)",
   "language": "python",
   "name": "python3"
  },
  "language_info": {
   "codemirror_mode": {
    "name": "ipython",
    "version": 3
   },
   "file_extension": ".py",
   "mimetype": "text/x-python",
   "name": "python",
   "nbconvert_exporter": "python",
   "pygments_lexer": "ipython3",
   "version": "3.12.7"
  }
 },
 "nbformat": 4,
 "nbformat_minor": 5
}
